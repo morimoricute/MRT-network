{
 "cells": [
  {
   "cell_type": "code",
   "execution_count": 1,
   "metadata": {},
   "outputs": [],
   "source": [
    "import lxml\n",
    "import numpy as np\n",
    "import pandas as pd"
   ]
  },
  {
   "cell_type": "code",
   "execution_count": 2,
   "metadata": {},
   "outputs": [
    {
     "data": {
      "text/plain": [
       "'WIKI_URL = \"https://zh.wikipedia.org/wiki/%E6%9D%BF%E5%8D%97%E7%B7%9A\"\\ndfs = pd.read_html(WIKI_URL, header=0) # set header with row #0\\ndf = dfs[4]\\nprint(df)'"
      ]
     },
     "execution_count": 2,
     "metadata": {},
     "output_type": "execute_result"
    }
   ],
   "source": [
    "'''WIKI_URL = \"https://zh.wikipedia.org/wiki/%E6%9D%BF%E5%8D%97%E7%B7%9A\"\n",
    "dfs = pd.read_html(WIKI_URL, header=0) # set header with row #0\n",
    "df = dfs[4]\n",
    "print(df)'''"
   ]
  },
  {
   "cell_type": "code",
   "execution_count": 3,
   "metadata": {},
   "outputs": [],
   "source": [
    "class lines():\n",
    "    def __init__(self, color, url, table):\n",
    "        self.data_folder = 'C:/projects/mrt/data'\n",
    "        self.color=str(color)\n",
    "        self.url = str(url)\n",
    "        self.table=int(table)\n",
    "        self.df=None\n",
    "    def scrap_wiki(self):\n",
    "        dfs = pd.read_html(self.url, header=0) \n",
    "        self.df=dfs[self.table]\n",
    "        return self.df\n",
    "    def sort_data(self,df):\n",
    "        df.drop(df.columns.difference(['車站編號','車站名稱','Station','交會路線']), 1, inplace=True)\n",
    "        df.drop(df.index[0], 0, inplace=True)\n",
    "        self.df=df\n",
    "        return self.df\n",
    "    '''def tranport_station(self, df):\n",
    "        dir({'板南線':'BL','環狀線':'Y',})\n",
    "        for i in range(0,len(df['交會路線'])):\n",
    "            if df['交會路線'].iloc[i].isnull()==True:\n",
    "                df['交會路線'].iloc[i]='no transport station'\n",
    "            #else:'''\n",
    "    def df_to_csv(self):    \n",
    "        dataframe=pd.DataFrame(data=self.df)\n",
    "        dataframe.to_csv('%s/%s.csv' %(self.data_folder, self.color))\n",
    "        return 'successfully store'\n",
    "\n"
   ]
  },
  {
   "cell_type": "code",
   "execution_count": 4,
   "metadata": {},
   "outputs": [
    {
     "name": "stderr",
     "output_type": "stream",
     "text": [
      "C:\\Users\\09538\\AppData\\Local\\Temp\\ipykernel_7960\\2470131595.py:13: FutureWarning: In a future version of pandas all arguments of DataFrame.drop except for the argument 'labels' will be keyword-only.\n",
      "  df.drop(df.columns.difference(['車站編號','車站名稱','Station','交會路線']), 1, inplace=True)\n",
      "C:\\Users\\09538\\AppData\\Local\\Temp\\ipykernel_7960\\2470131595.py:14: FutureWarning: In a future version of pandas all arguments of DataFrame.drop except for the argument 'labels' will be keyword-only.\n",
      "  df.drop(df.index[0], 0, inplace=True)\n"
     ]
    }
   ],
   "source": [
    "if __name__ == '__main__':\n",
    "    BR = lines(color='brown', url='https://zh.wikipedia.org/wiki/%E6%96%87%E6%B9%96%E7%B7%9A', table=4)\n",
    "    df_BR=BR.scrap_wiki()\n",
    "    df_BR.rename(columns={'車站名稱（車站顏色[d]）.1':'車站名稱'},inplace=True)\n",
    "    df_BR=BR.sort_data(df=df_BR)\n",
    "    BR.df_to_csv()\n",
    "    #display(df_BR)"
   ]
  },
  {
   "cell_type": "code",
   "execution_count": 5,
   "metadata": {},
   "outputs": [
    {
     "name": "stderr",
     "output_type": "stream",
     "text": [
      "C:\\Users\\09538\\AppData\\Local\\Temp\\ipykernel_7960\\2470131595.py:13: FutureWarning: In a future version of pandas all arguments of DataFrame.drop except for the argument 'labels' will be keyword-only.\n",
      "  df.drop(df.columns.difference(['車站編號','車站名稱','Station','交會路線']), 1, inplace=True)\n",
      "C:\\Users\\09538\\AppData\\Local\\Temp\\ipykernel_7960\\2470131595.py:14: FutureWarning: In a future version of pandas all arguments of DataFrame.drop except for the argument 'labels' will be keyword-only.\n",
      "  df.drop(df.index[0], 0, inplace=True)\n"
     ]
    },
    {
     "data": {
      "text/plain": [
       "'successfully store'"
      ]
     },
     "execution_count": 5,
     "metadata": {},
     "output_type": "execute_result"
    }
   ],
   "source": [
    "    R = lines(color='red', url='https://zh.wikipedia.org/wiki/%E6%B7%A1%E6%B0%B4%E4%BF%A1%E7%BE%A9%E7%B7%9A', table=4)\n",
    "    df_R=R.scrap_wiki()\n",
    "    df_R=R.sort_data(df=df_R)\n",
    "    df_R=df_R.drop(index=[9,24,26])\n",
    "    R.df_to_csv()\n",
    "    #display(df_R)"
   ]
  },
  {
   "cell_type": "code",
   "execution_count": 6,
   "metadata": {},
   "outputs": [
    {
     "name": "stderr",
     "output_type": "stream",
     "text": [
      "C:\\Users\\09538\\AppData\\Local\\Temp\\ipykernel_7960\\2470131595.py:13: FutureWarning: In a future version of pandas all arguments of DataFrame.drop except for the argument 'labels' will be keyword-only.\n",
      "  df.drop(df.columns.difference(['車站編號','車站名稱','Station','交會路線']), 1, inplace=True)\n",
      "C:\\Users\\09538\\AppData\\Local\\Temp\\ipykernel_7960\\2470131595.py:14: FutureWarning: In a future version of pandas all arguments of DataFrame.drop except for the argument 'labels' will be keyword-only.\n",
      "  df.drop(df.index[0], 0, inplace=True)\n"
     ]
    },
    {
     "data": {
      "text/plain": [
       "'successfully store'"
      ]
     },
     "execution_count": 6,
     "metadata": {},
     "output_type": "execute_result"
    }
   ],
   "source": [
    "    G = lines(color='green', url='https://zh.wikipedia.org/wiki/%E6%9D%BE%E5%B1%B1%E6%96%B0%E5%BA%97%E7%B7%9A', table=4)\n",
    "    df_G=G.scrap_wiki()\n",
    "    df_G=G.sort_data(df=df_G)\n",
    "    df_G=df_G.drop(index=[2,6,9,12,22])\n",
    "    G.df_to_csv()\n",
    "    #display(df_G)"
   ]
  },
  {
   "cell_type": "code",
   "execution_count": 7,
   "metadata": {},
   "outputs": [
    {
     "name": "stderr",
     "output_type": "stream",
     "text": [
      "C:\\Users\\09538\\AppData\\Local\\Temp\\ipykernel_7960\\2470131595.py:13: FutureWarning: In a future version of pandas all arguments of DataFrame.drop except for the argument 'labels' will be keyword-only.\n",
      "  df.drop(df.columns.difference(['車站編號','車站名稱','Station','交會路線']), 1, inplace=True)\n",
      "C:\\Users\\09538\\AppData\\Local\\Temp\\ipykernel_7960\\2470131595.py:14: FutureWarning: In a future version of pandas all arguments of DataFrame.drop except for the argument 'labels' will be keyword-only.\n",
      "  df.drop(df.index[0], 0, inplace=True)\n"
     ]
    },
    {
     "data": {
      "text/plain": [
       "'successfully store'"
      ]
     },
     "execution_count": 7,
     "metadata": {},
     "output_type": "execute_result"
    }
   ],
   "source": [
    "    O = lines(color='orange', url='https://zh.wikipedia.org/wiki/%E4%B8%AD%E5%92%8C%E6%96%B0%E8%98%86%E7%B7%9A', table=6)\n",
    "    df_O=O.scrap_wiki()\n",
    "    df_O=O.sort_data(df=df_O)\n",
    "    df_O=df_O.drop(index=[18,27])\n",
    "    O.df_to_csv()\n",
    "    #display(df_O)"
   ]
  },
  {
   "cell_type": "code",
   "execution_count": 8,
   "metadata": {},
   "outputs": [
    {
     "name": "stderr",
     "output_type": "stream",
     "text": [
      "C:\\Users\\09538\\AppData\\Local\\Temp\\ipykernel_7960\\2470131595.py:13: FutureWarning: In a future version of pandas all arguments of DataFrame.drop except for the argument 'labels' will be keyword-only.\n",
      "  df.drop(df.columns.difference(['車站編號','車站名稱','Station','交會路線']), 1, inplace=True)\n",
      "C:\\Users\\09538\\AppData\\Local\\Temp\\ipykernel_7960\\2470131595.py:14: FutureWarning: In a future version of pandas all arguments of DataFrame.drop except for the argument 'labels' will be keyword-only.\n",
      "  df.drop(df.index[0], 0, inplace=True)\n"
     ]
    },
    {
     "data": {
      "text/plain": [
       "'successfully store'"
      ]
     },
     "execution_count": 8,
     "metadata": {},
     "output_type": "execute_result"
    }
   ],
   "source": [
    "    BL = lines(color='blue', url='https://zh.wikipedia.org/wiki/%E6%9D%BF%E5%8D%97%E7%B7%9A', table=4)\n",
    "    df_BL=BL.scrap_wiki()\n",
    "    df_BL=BL.sort_data(df=df_BL)\n",
    "    df_BL=df_BL.drop(index=[5,9,13,17])\n",
    "    BL.df_to_csv()\n",
    "    #display(df_BL)"
   ]
  }
 ],
 "metadata": {
  "interpreter": {
   "hash": "006d6454ebe439775577f38fce6d6b3390f72d7ca6da055904dcf23fe1f7d636"
  },
  "kernelspec": {
   "display_name": "Python 3.9.7 ('DB')",
   "language": "python",
   "name": "python3"
  },
  "language_info": {
   "codemirror_mode": {
    "name": "ipython",
    "version": 3
   },
   "file_extension": ".py",
   "mimetype": "text/x-python",
   "name": "python",
   "nbconvert_exporter": "python",
   "pygments_lexer": "ipython3",
   "version": "3.10.0"
  },
  "orig_nbformat": 4
 },
 "nbformat": 4,
 "nbformat_minor": 2
}
