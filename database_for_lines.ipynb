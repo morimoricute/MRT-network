{
 "cells": [
  {
   "cell_type": "code",
   "execution_count": null,
   "metadata": {},
   "outputs": [],
   "source": [
    "import pandas as pd\n",
    "import requests\n",
    "from bs4 import BeautifulSoup\n",
    "from requests.models import Response\n",
    "import lxml\n",
    "import numpy as np\n",
    "import pandas as pd\n",
    "import jaydebeapi\n",
    "from pandasql import sqldf\n",
    "import sqlite3\n",
    "from pyArango.connection import *\n",
    "from pyArango.query import *"
   ]
  },
  {
   "cell_type": "code",
   "execution_count": null,
   "metadata": {},
   "outputs": [],
   "source": [
    "#connect to h2 database\n",
    "dbConnection = jaydebeapi.connect(\n",
    "    \"org.h2.Driver\",\n",
    "    \"jdbc:h2:C:\\projects\\mrt\\data\\lines\",\n",
    "    [\"sa\", \"\"],\n",
    "    \"C:/Java/h2-2022-01-17/h2/bin/h2-2.1.210.jar\")\n",
    "\n",
    "dbCursor=dbConnection.cursor()"
   ]
  },
  {
   "cell_type": "code",
   "execution_count": null,
   "metadata": {},
   "outputs": [],
   "source": [
    "_sql=[\n",
    "   \"CREATE TABLE IF NOT EXISTS\",\n",
    "   \"BR(ID VARCHAR, Station VARCHAR, Transport VARCHAR);\",\n",
    "]\n",
    "sql=' '.join(_sql)\n",
    "dbCursor.execute(sql)"
   ]
  },
  {
   "cell_type": "code",
   "execution_count": null,
   "metadata": {},
   "outputs": [],
   "source": [
    "db.collections['BR'].truncate()\n",
    "db.collections['BL'].truncate()\n",
    "db.collections['G'].truncate()\n",
    "db.collections['O'].truncate()\n",
    "db.collections['Y'].truncate()\n",
    "db.collections['R'].truncate()"
   ]
  },
  {
   "cell_type": "code",
   "execution_count": null,
   "metadata": {},
   "outputs": [],
   "source": [
    "dbCursor.execute('TRUNCATE TABLE BR;')"
   ]
  },
  {
   "cell_type": "code",
   "execution_count": null,
   "metadata": {},
   "outputs": [],
   "source": [
    "_sql=[\"INSERT INTO\",\n",
    "    \"mrt(ID, Station, Transport)\",\n",
    "    \"VALUES('%s', '%s', '%s');\"\n",
    "]\n",
    "sql=' '.join(_sql)"
   ]
  },
  {
   "cell_type": "code",
   "execution_count": null,
   "metadata": {},
   "outputs": [],
   "source": [
    "for i in range(df_mrt.shape[0]):\n",
    "    row=df_mrt.iloc[i]\n",
    "    insert_sql = sql%(row[0],row[1],row[2],)\n",
    "    dbCursor.execute(insert_sql)"
   ]
  },
  {
   "cell_type": "code",
   "execution_count": null,
   "metadata": {},
   "outputs": [],
   "source": [
    "def into_arango(line,collection):\n",
    "    for i in range(line.shape[0]):\n",
    "        row=line.iloc[i]\n",
    "        doc = collection.createDocument()\n",
    "        doc['_key']=row[0]\n",
    "        doc['車站名稱']=row[1],\n",
    "        doc['交會車站']=row[2],\n",
    "        doc.save()"
   ]
  },
  {
   "cell_type": "code",
   "execution_count": null,
   "metadata": {},
   "outputs": [],
   "source": [
    "into_arango(BR,db.collections['BR'])\n",
    "into_arango(BL,db.collections['BL'])\n",
    "into_arango(G,db.collections['G'])\n",
    "into_arango(O,db.collections['O'])\n",
    "into_arango(Y,db.collections['Y'])\n",
    "into_arango(R,db.collections['R'])"
   ]
  }
 ],
 "metadata": {
  "language_info": {
   "name": "python"
  },
  "orig_nbformat": 4
 },
 "nbformat": 4,
 "nbformat_minor": 2
}
